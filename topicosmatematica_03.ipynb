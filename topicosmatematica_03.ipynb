{
  "nbformat": 4,
  "nbformat_minor": 0,
  "metadata": {
    "colab": {
      "provenance": [],
      "authorship_tag": "ABX9TyPZ4zXHpXp8OFFSSUj2WZ2x",
      "include_colab_link": true
    },
    "kernelspec": {
      "name": "python3",
      "display_name": "Python 3"
    },
    "language_info": {
      "name": "python"
    }
  },
  "cells": [
    {
      "cell_type": "markdown",
      "metadata": {
        "id": "view-in-github",
        "colab_type": "text"
      },
      "source": [
        "<a href=\"https://colab.research.google.com/github/h4rad4/armazem/blob/main/topicosmatematica_03.ipynb\" target=\"_parent\"><img src=\"https://colab.research.google.com/assets/colab-badge.svg\" alt=\"Open In Colab\"/></a>"
      ]
    },
    {
      "cell_type": "markdown",
      "source": [],
      "metadata": {
        "id": "78xtV95GeFnt"
      }
    },
    {
      "cell_type": "code",
      "execution_count": null,
      "metadata": {
        "id": "_5zhprCIdwOp"
      },
      "outputs": [],
      "source": [
        "# Importando as bibliotecas usuais na matemáticas\n",
        "#\n",
        "import numpy as np\n",
        "import sympy as sp\n",
        "from sympy import *\n",
        "import matplotlib.pyplot as plt"
      ]
    },
    {
      "cell_type": "code",
      "source": [
        "# Configuração para a SymPy\n",
        "#\n",
        "x, y, z, t = symbols('x y z t')\n",
        "k, m, n = symbols('k m n', integer=True)\n",
        "f, g, h = symbols('f g h', cls=Function)\n",
        "sp.init_printing()\n"
      ],
      "metadata": {
        "id": "LvjI07MPh-he"
      },
      "execution_count": 11,
      "outputs": []
    },
    {
      "cell_type": "code",
      "source": [
        "# Função para desenhar os eixos do plano cartesiano\n",
        "#\n",
        "def eixos():\n",
        "\tpensize(0.4) \t# configura a espessura da caneta para 0.4 pontos\n",
        "\tspeed(10) \t# velocidade da turtle\n",
        "\tpenup()\n",
        "\tsetpos(-210, 0)\n",
        "\tpendown()\n",
        "\tsetpos(210, 0)\n",
        "\tstamp() \t\t# carimba a figura da turtle na tela\n",
        "\tpenup()\n",
        "\tsetpos(0, -210)\n",
        "\tface(90)\n",
        "\tpendown()\n",
        "\tsetpos(0, 210)\n",
        "\tstamp()\n",
        "\thome() \t\t# origem do plano cartesiano com a direção leste"
      ],
      "metadata": {
        "colab": {
          "base_uri": "https://localhost:8080/",
          "height": 37
        },
        "id": "NBAYuJeYjyNH",
        "outputId": "975d9066-8733-438c-8d80-f1291226b86c"
      },
      "execution_count": 13,
      "outputs": [
        {
          "output_type": "execute_result",
          "data": {
            "text/plain": [
              "3"
            ],
            "image/png": "[encoded data removed]",
            "text/latex": "$\\displaystyle 3$"
          },
          "metadata": {},
          "execution_count": 13
        }
      ]
    }
  ]
}